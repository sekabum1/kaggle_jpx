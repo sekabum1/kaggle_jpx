{
 "cells": [
  {
   "cell_type": "code",
   "execution_count": 1,
   "id": "a8d8e862",
   "metadata": {
    "_cell_guid": "b1076dfc-b9ad-4769-8c92-a6c4dae69d19",
    "_uuid": "8f2839f25d086af736a60e9eeb907d3b93b6e0e5",
    "execution": {
     "iopub.execute_input": "2022-06-05T06:11:24.061295Z",
     "iopub.status.busy": "2022-06-05T06:11:24.060437Z",
     "iopub.status.idle": "2022-06-05T06:11:24.099715Z",
     "shell.execute_reply": "2022-06-05T06:11:24.098430Z"
    },
    "papermill": {
     "duration": 0.055724,
     "end_time": "2022-06-05T06:11:24.103414",
     "exception": false,
     "start_time": "2022-06-05T06:11:24.047690",
     "status": "completed"
    },
    "tags": []
   },
   "outputs": [
    {
     "name": "stdout",
     "output_type": "stream",
     "text": [
      "/kaggle/input/jpx-network-models-features/graph9999.gpickle\n",
      "/kaggle/input/jpx-network-models-features/fullgraph.gpickle\n",
      "/kaggle/input/jpx-network-models-features/submission.csv\n",
      "/kaggle/input/jpx-network-models-features/network_features.csv\n",
      "/kaggle/input/jpx-tokyo-stock-exchange-prediction/stock_list.csv\n",
      "/kaggle/input/jpx-tokyo-stock-exchange-prediction/example_test_files/sample_submission.csv\n",
      "/kaggle/input/jpx-tokyo-stock-exchange-prediction/example_test_files/options.csv\n",
      "/kaggle/input/jpx-tokyo-stock-exchange-prediction/example_test_files/financials.csv\n",
      "/kaggle/input/jpx-tokyo-stock-exchange-prediction/example_test_files/secondary_stock_prices.csv\n",
      "/kaggle/input/jpx-tokyo-stock-exchange-prediction/example_test_files/trades.csv\n",
      "/kaggle/input/jpx-tokyo-stock-exchange-prediction/example_test_files/stock_prices.csv\n",
      "/kaggle/input/jpx-tokyo-stock-exchange-prediction/jpx_tokyo_market_prediction/competition.cpython-37m-x86_64-linux-gnu.so\n",
      "/kaggle/input/jpx-tokyo-stock-exchange-prediction/jpx_tokyo_market_prediction/__init__.py\n",
      "/kaggle/input/jpx-tokyo-stock-exchange-prediction/data_specifications/stock_fin_spec.csv\n",
      "/kaggle/input/jpx-tokyo-stock-exchange-prediction/data_specifications/trades_spec.csv\n",
      "/kaggle/input/jpx-tokyo-stock-exchange-prediction/data_specifications/stock_price_spec.csv\n",
      "/kaggle/input/jpx-tokyo-stock-exchange-prediction/data_specifications/options_spec.csv\n",
      "/kaggle/input/jpx-tokyo-stock-exchange-prediction/data_specifications/stock_list_spec.csv\n",
      "/kaggle/input/jpx-tokyo-stock-exchange-prediction/train_files/options.csv\n",
      "/kaggle/input/jpx-tokyo-stock-exchange-prediction/train_files/financials.csv\n",
      "/kaggle/input/jpx-tokyo-stock-exchange-prediction/train_files/secondary_stock_prices.csv\n",
      "/kaggle/input/jpx-tokyo-stock-exchange-prediction/train_files/trades.csv\n",
      "/kaggle/input/jpx-tokyo-stock-exchange-prediction/train_files/stock_prices.csv\n",
      "/kaggle/input/jpx-tokyo-stock-exchange-prediction/supplemental_files/options.csv\n",
      "/kaggle/input/jpx-tokyo-stock-exchange-prediction/supplemental_files/financials.csv\n",
      "/kaggle/input/jpx-tokyo-stock-exchange-prediction/supplemental_files/secondary_stock_prices.csv\n",
      "/kaggle/input/jpx-tokyo-stock-exchange-prediction/supplemental_files/trades.csv\n",
      "/kaggle/input/jpx-tokyo-stock-exchange-prediction/supplemental_files/stock_prices.csv\n"
     ]
    }
   ],
   "source": [
    "# This Python 3 environment comes with many helpful analytics libraries installed\n",
    "# It is defined by the kaggle/python Docker image: https://github.com/kaggle/docker-python\n",
    "# For example, here's several helpful packages to load\n",
    "\n",
    "import numpy as np # linear algebra\n",
    "import pandas as pd # data processing, CSV file I/O (e.g. pd.read_csv)\n",
    "\n",
    "# Input data files are available in the read-only \"../input/\" directory\n",
    "# For example, running this (by clicking run or pressing Shift+Enter) will list all files under the input directory\n",
    "\n",
    "import os\n",
    "for dirname, _, filenames in os.walk('/kaggle/input'):\n",
    "    for filename in filenames:\n",
    "        print(os.path.join(dirname, filename))\n",
    "\n",
    "# You can write up to 20GB to the current directory (/kaggle/working/) that gets preserved as output when you create a version using \"Save & Run All\" \n",
    "# You can also write temporary files to /kaggle/temp/, but they won't be saved outside of the current session\n",
    "\n",
    "#!pip install autokeras"
   ]
  },
  {
   "cell_type": "markdown",
   "id": "759cb5fe",
   "metadata": {
    "papermill": {
     "duration": 0.007356,
     "end_time": "2022-06-05T06:11:24.118051",
     "exception": false,
     "start_time": "2022-06-05T06:11:24.110695",
     "status": "completed"
    },
    "tags": []
   },
   "source": [
    "参考:https://www.kaggle.com/code/tatsuyafujii/eda-jp-tokyo-stock-1"
   ]
  },
  {
   "cell_type": "code",
   "execution_count": 2,
   "id": "76917b75",
   "metadata": {
    "execution": {
     "iopub.execute_input": "2022-06-05T06:11:24.133893Z",
     "iopub.status.busy": "2022-06-05T06:11:24.132957Z",
     "iopub.status.idle": "2022-06-05T06:11:26.293294Z",
     "shell.execute_reply": "2022-06-05T06:11:26.291488Z"
    },
    "papermill": {
     "duration": 2.170987,
     "end_time": "2022-06-05T06:11:26.295975",
     "exception": false,
     "start_time": "2022-06-05T06:11:24.124988",
     "status": "completed"
    },
    "tags": []
   },
   "outputs": [
    {
     "name": "stderr",
     "output_type": "stream",
     "text": [
      "/opt/conda/lib/python3.7/site-packages/IPython/core/interactiveshell.py:3552: DtypeWarning: Columns (14,15,16,17,18,19,42,44) have mixed types.Specify dtype option on import or set low_memory=False.\n",
      "  exec(code_obj, self.user_global_ns, self.user_ns)\n"
     ]
    }
   ],
   "source": [
    "fin_df=pd.read_csv(\"../input/jpx-tokyo-stock-exchange-prediction/train_files/financials.csv\")\n"
   ]
  },
  {
   "cell_type": "code",
   "execution_count": 3,
   "id": "80974a79",
   "metadata": {
    "execution": {
     "iopub.execute_input": "2022-06-05T06:11:26.311094Z",
     "iopub.status.busy": "2022-06-05T06:11:26.310589Z",
     "iopub.status.idle": "2022-06-05T06:11:27.083326Z",
     "shell.execute_reply": "2022-06-05T06:11:27.081846Z"
    },
    "papermill": {
     "duration": 0.783781,
     "end_time": "2022-06-05T06:11:27.086278",
     "exception": false,
     "start_time": "2022-06-05T06:11:26.302497",
     "status": "completed"
    },
    "tags": []
   },
   "outputs": [
    {
     "name": "stdout",
     "output_type": "stream",
     "text": [
      "(195993, 12)\n"
     ]
    },
    {
     "data": {
      "text/html": [
       "<div>\n",
       "<style scoped>\n",
       "    .dataframe tbody tr th:only-of-type {\n",
       "        vertical-align: middle;\n",
       "    }\n",
       "\n",
       "    .dataframe tbody tr th {\n",
       "        vertical-align: top;\n",
       "    }\n",
       "\n",
       "    .dataframe thead th {\n",
       "        text-align: right;\n",
       "    }\n",
       "</style>\n",
       "<table border=\"1\" class=\"dataframe\">\n",
       "  <thead>\n",
       "    <tr style=\"text-align: right;\">\n",
       "      <th></th>\n",
       "      <th>RowId</th>\n",
       "      <th>Date</th>\n",
       "      <th>SecuritiesCode</th>\n",
       "      <th>Open</th>\n",
       "      <th>High</th>\n",
       "      <th>Low</th>\n",
       "      <th>Close</th>\n",
       "      <th>Volume</th>\n",
       "      <th>AdjustmentFactor</th>\n",
       "      <th>ExpectedDividend</th>\n",
       "      <th>SupervisionFlag</th>\n",
       "      <th>Target</th>\n",
       "    </tr>\n",
       "  </thead>\n",
       "  <tbody>\n",
       "    <tr>\n",
       "      <th>0</th>\n",
       "      <td>20211206_1301</td>\n",
       "      <td>2021-12-06</td>\n",
       "      <td>1301</td>\n",
       "      <td>2982.0</td>\n",
       "      <td>2982.0</td>\n",
       "      <td>2965.0</td>\n",
       "      <td>2971.0</td>\n",
       "      <td>8900</td>\n",
       "      <td>1.0</td>\n",
       "      <td>NaN</td>\n",
       "      <td>False</td>\n",
       "      <td>-0.003263</td>\n",
       "    </tr>\n",
       "    <tr>\n",
       "      <th>1</th>\n",
       "      <td>20211206_1332</td>\n",
       "      <td>2021-12-06</td>\n",
       "      <td>1332</td>\n",
       "      <td>592.0</td>\n",
       "      <td>599.0</td>\n",
       "      <td>588.0</td>\n",
       "      <td>589.0</td>\n",
       "      <td>1360800</td>\n",
       "      <td>1.0</td>\n",
       "      <td>NaN</td>\n",
       "      <td>False</td>\n",
       "      <td>-0.008993</td>\n",
       "    </tr>\n",
       "    <tr>\n",
       "      <th>2</th>\n",
       "      <td>20211206_1333</td>\n",
       "      <td>2021-12-06</td>\n",
       "      <td>1333</td>\n",
       "      <td>2368.0</td>\n",
       "      <td>2388.0</td>\n",
       "      <td>2360.0</td>\n",
       "      <td>2377.0</td>\n",
       "      <td>125900</td>\n",
       "      <td>1.0</td>\n",
       "      <td>NaN</td>\n",
       "      <td>False</td>\n",
       "      <td>-0.009963</td>\n",
       "    </tr>\n",
       "    <tr>\n",
       "      <th>3</th>\n",
       "      <td>20211206_1375</td>\n",
       "      <td>2021-12-06</td>\n",
       "      <td>1375</td>\n",
       "      <td>1230.0</td>\n",
       "      <td>1239.0</td>\n",
       "      <td>1224.0</td>\n",
       "      <td>1224.0</td>\n",
       "      <td>81100</td>\n",
       "      <td>1.0</td>\n",
       "      <td>NaN</td>\n",
       "      <td>False</td>\n",
       "      <td>-0.015032</td>\n",
       "    </tr>\n",
       "    <tr>\n",
       "      <th>4</th>\n",
       "      <td>20211206_1376</td>\n",
       "      <td>2021-12-06</td>\n",
       "      <td>1376</td>\n",
       "      <td>1339.0</td>\n",
       "      <td>1372.0</td>\n",
       "      <td>1339.0</td>\n",
       "      <td>1351.0</td>\n",
       "      <td>6200</td>\n",
       "      <td>1.0</td>\n",
       "      <td>NaN</td>\n",
       "      <td>False</td>\n",
       "      <td>0.002867</td>\n",
       "    </tr>\n",
       "  </tbody>\n",
       "</table>\n",
       "</div>"
      ],
      "text/plain": [
       "           RowId       Date  SecuritiesCode    Open    High     Low   Close  \\\n",
       "0  20211206_1301 2021-12-06            1301  2982.0  2982.0  2965.0  2971.0   \n",
       "1  20211206_1332 2021-12-06            1332   592.0   599.0   588.0   589.0   \n",
       "2  20211206_1333 2021-12-06            1333  2368.0  2388.0  2360.0  2377.0   \n",
       "3  20211206_1375 2021-12-06            1375  1230.0  1239.0  1224.0  1224.0   \n",
       "4  20211206_1376 2021-12-06            1376  1339.0  1372.0  1339.0  1351.0   \n",
       "\n",
       "    Volume  AdjustmentFactor  ExpectedDividend  SupervisionFlag    Target  \n",
       "0     8900               1.0               NaN            False -0.003263  \n",
       "1  1360800               1.0               NaN            False -0.008993  \n",
       "2   125900               1.0               NaN            False -0.009963  \n",
       "3    81100               1.0               NaN            False -0.015032  \n",
       "4     6200               1.0               NaN            False  0.002867  "
      ]
     },
     "execution_count": 3,
     "metadata": {},
     "output_type": "execute_result"
    }
   ],
   "source": [
    "prices=pd.read_csv(\"../input/jpx-tokyo-stock-exchange-prediction/supplemental_files/stock_prices.csv\",parse_dates=[\"Date\"])\n",
    "print(prices.shape)\n",
    "prices.head()"
   ]
  },
  {
   "cell_type": "code",
   "execution_count": 4,
   "id": "718bc0aa",
   "metadata": {
    "execution": {
     "iopub.execute_input": "2022-06-05T06:11:27.103563Z",
     "iopub.status.busy": "2022-06-05T06:11:27.102724Z",
     "iopub.status.idle": "2022-06-05T06:11:27.143713Z",
     "shell.execute_reply": "2022-06-05T06:11:27.142256Z"
    },
    "papermill": {
     "duration": 0.053667,
     "end_time": "2022-06-05T06:11:27.147209",
     "exception": false,
     "start_time": "2022-06-05T06:11:27.093542",
     "status": "completed"
    },
    "tags": []
   },
   "outputs": [
    {
     "name": "stdout",
     "output_type": "stream",
     "text": [
      "RowId                    0\n",
      "Date                     0\n",
      "SecuritiesCode           0\n",
      "Open                   591\n",
      "High                   591\n",
      "Low                    591\n",
      "Close                  591\n",
      "Volume                   0\n",
      "AdjustmentFactor         0\n",
      "ExpectedDividend    194037\n",
      "SupervisionFlag          0\n",
      "Target                   4\n",
      "dtype: int64\n",
      "RowId                       object\n",
      "Date                datetime64[ns]\n",
      "SecuritiesCode               int64\n",
      "Open                       float64\n",
      "High                       float64\n",
      "Low                        float64\n",
      "Close                      float64\n",
      "Volume                       int64\n",
      "AdjustmentFactor           float64\n",
      "ExpectedDividend           float64\n",
      "SupervisionFlag               bool\n",
      "Target                     float64\n",
      "dtype: object\n"
     ]
    }
   ],
   "source": [
    "#欠損値確認\n",
    "print(prices.isnull().sum())\n",
    "#データの型を確認\n",
    "print(prices.dtypes)"
   ]
  },
  {
   "cell_type": "markdown",
   "id": "cda6d226",
   "metadata": {
    "papermill": {
     "duration": 0.006948,
     "end_time": "2022-06-05T06:11:27.162189",
     "exception": false,
     "start_time": "2022-06-05T06:11:27.155241",
     "status": "completed"
    },
    "tags": []
   },
   "source": [
    "591ってなんの数字？\n",
    "ExpectedDividendは一回除去する？"
   ]
  },
  {
   "cell_type": "code",
   "execution_count": 5,
   "id": "a3808a33",
   "metadata": {
    "execution": {
     "iopub.execute_input": "2022-06-05T06:11:27.179685Z",
     "iopub.status.busy": "2022-06-05T06:11:27.178517Z",
     "iopub.status.idle": "2022-06-05T06:11:27.329030Z",
     "shell.execute_reply": "2022-06-05T06:11:27.328036Z"
    },
    "papermill": {
     "duration": 0.162221,
     "end_time": "2022-06-05T06:11:27.331524",
     "exception": false,
     "start_time": "2022-06-05T06:11:27.169303",
     "status": "completed"
    },
    "tags": []
   },
   "outputs": [
    {
     "data": {
      "text/html": [
       "<div>\n",
       "<style scoped>\n",
       "    .dataframe tbody tr th:only-of-type {\n",
       "        vertical-align: middle;\n",
       "    }\n",
       "\n",
       "    .dataframe tbody tr th {\n",
       "        vertical-align: top;\n",
       "    }\n",
       "\n",
       "    .dataframe thead th {\n",
       "        text-align: right;\n",
       "    }\n",
       "</style>\n",
       "<table border=\"1\" class=\"dataframe\">\n",
       "  <thead>\n",
       "    <tr style=\"text-align: right;\">\n",
       "      <th></th>\n",
       "      <th>SecuritiesCode</th>\n",
       "      <th>Open</th>\n",
       "      <th>High</th>\n",
       "      <th>Low</th>\n",
       "      <th>Close</th>\n",
       "      <th>Volume</th>\n",
       "      <th>AdjustmentFactor</th>\n",
       "      <th>ExpectedDividend</th>\n",
       "      <th>Target</th>\n",
       "    </tr>\n",
       "  </thead>\n",
       "  <tbody>\n",
       "    <tr>\n",
       "      <th>count</th>\n",
       "      <td>195993.000000</td>\n",
       "      <td>195402.000000</td>\n",
       "      <td>195402.000000</td>\n",
       "      <td>195402.000000</td>\n",
       "      <td>195402.000000</td>\n",
       "      <td>1.959930e+05</td>\n",
       "      <td>195993.000000</td>\n",
       "      <td>1956.000000</td>\n",
       "      <td>195989.000000</td>\n",
       "    </tr>\n",
       "    <tr>\n",
       "      <th>mean</th>\n",
       "      <td>5883.100488</td>\n",
       "      <td>2626.154778</td>\n",
       "      <td>2658.556070</td>\n",
       "      <td>2589.402094</td>\n",
       "      <td>2623.911886</td>\n",
       "      <td>6.235170e+05</td>\n",
       "      <td>0.999949</td>\n",
       "      <td>32.684882</td>\n",
       "      <td>-0.000538</td>\n",
       "    </tr>\n",
       "    <tr>\n",
       "      <th>std</th>\n",
       "      <td>2389.743578</td>\n",
       "      <td>4151.595680</td>\n",
       "      <td>4201.974233</td>\n",
       "      <td>4092.703559</td>\n",
       "      <td>4146.718185</td>\n",
       "      <td>2.482682e+06</td>\n",
       "      <td>0.005220</td>\n",
       "      <td>55.208573</td>\n",
       "      <td>0.023798</td>\n",
       "    </tr>\n",
       "    <tr>\n",
       "      <th>min</th>\n",
       "      <td>1301.000000</td>\n",
       "      <td>35.000000</td>\n",
       "      <td>36.000000</td>\n",
       "      <td>34.000000</td>\n",
       "      <td>34.000000</td>\n",
       "      <td>0.000000e+00</td>\n",
       "      <td>0.333333</td>\n",
       "      <td>0.000000</td>\n",
       "      <td>-0.355000</td>\n",
       "    </tr>\n",
       "    <tr>\n",
       "      <th>25%</th>\n",
       "      <td>3916.000000</td>\n",
       "      <td>1013.000000</td>\n",
       "      <td>1025.000000</td>\n",
       "      <td>1001.000000</td>\n",
       "      <td>1012.000000</td>\n",
       "      <td>3.340000e+04</td>\n",
       "      <td>1.000000</td>\n",
       "      <td>10.000000</td>\n",
       "      <td>-0.012243</td>\n",
       "    </tr>\n",
       "    <tr>\n",
       "      <th>50%</th>\n",
       "      <td>6201.000000</td>\n",
       "      <td>1784.000000</td>\n",
       "      <td>1805.000000</td>\n",
       "      <td>1761.000000</td>\n",
       "      <td>1783.000000</td>\n",
       "      <td>9.910000e+04</td>\n",
       "      <td>1.000000</td>\n",
       "      <td>21.000000</td>\n",
       "      <td>0.000000</td>\n",
       "    </tr>\n",
       "    <tr>\n",
       "      <th>75%</th>\n",
       "      <td>7937.000000</td>\n",
       "      <td>2926.000000</td>\n",
       "      <td>2962.000000</td>\n",
       "      <td>2889.000000</td>\n",
       "      <td>2925.000000</td>\n",
       "      <td>3.785000e+05</td>\n",
       "      <td>1.000000</td>\n",
       "      <td>40.000000</td>\n",
       "      <td>0.010870</td>\n",
       "    </tr>\n",
       "    <tr>\n",
       "      <th>max</th>\n",
       "      <td>9997.000000</td>\n",
       "      <td>79030.000000</td>\n",
       "      <td>79250.000000</td>\n",
       "      <td>78600.000000</td>\n",
       "      <td>79080.000000</td>\n",
       "      <td>1.582883e+08</td>\n",
       "      <td>1.000000</td>\n",
       "      <td>1080.000000</td>\n",
       "      <td>0.597907</td>\n",
       "    </tr>\n",
       "  </tbody>\n",
       "</table>\n",
       "</div>"
      ],
      "text/plain": [
       "       SecuritiesCode           Open           High            Low  \\\n",
       "count   195993.000000  195402.000000  195402.000000  195402.000000   \n",
       "mean      5883.100488    2626.154778    2658.556070    2589.402094   \n",
       "std       2389.743578    4151.595680    4201.974233    4092.703559   \n",
       "min       1301.000000      35.000000      36.000000      34.000000   \n",
       "25%       3916.000000    1013.000000    1025.000000    1001.000000   \n",
       "50%       6201.000000    1784.000000    1805.000000    1761.000000   \n",
       "75%       7937.000000    2926.000000    2962.000000    2889.000000   \n",
       "max       9997.000000   79030.000000   79250.000000   78600.000000   \n",
       "\n",
       "               Close        Volume  AdjustmentFactor  ExpectedDividend  \\\n",
       "count  195402.000000  1.959930e+05     195993.000000       1956.000000   \n",
       "mean     2623.911886  6.235170e+05          0.999949         32.684882   \n",
       "std      4146.718185  2.482682e+06          0.005220         55.208573   \n",
       "min        34.000000  0.000000e+00          0.333333          0.000000   \n",
       "25%      1012.000000  3.340000e+04          1.000000         10.000000   \n",
       "50%      1783.000000  9.910000e+04          1.000000         21.000000   \n",
       "75%      2925.000000  3.785000e+05          1.000000         40.000000   \n",
       "max     79080.000000  1.582883e+08          1.000000       1080.000000   \n",
       "\n",
       "              Target  \n",
       "count  195989.000000  \n",
       "mean       -0.000538  \n",
       "std         0.023798  \n",
       "min        -0.355000  \n",
       "25%        -0.012243  \n",
       "50%         0.000000  \n",
       "75%         0.010870  \n",
       "max         0.597907  "
      ]
     },
     "execution_count": 5,
     "metadata": {},
     "output_type": "execute_result"
    }
   ],
   "source": [
    "prices.describe()"
   ]
  },
  {
   "cell_type": "code",
   "execution_count": 6,
   "id": "10225b89",
   "metadata": {
    "execution": {
     "iopub.execute_input": "2022-06-05T06:11:27.349662Z",
     "iopub.status.busy": "2022-06-05T06:11:27.348416Z",
     "iopub.status.idle": "2022-06-05T06:11:27.359658Z",
     "shell.execute_reply": "2022-06-05T06:11:27.358318Z"
    },
    "papermill": {
     "duration": 0.023233,
     "end_time": "2022-06-05T06:11:27.362458",
     "exception": false,
     "start_time": "2022-06-05T06:11:27.339225",
     "status": "completed"
    },
    "tags": []
   },
   "outputs": [
    {
     "data": {
      "text/plain": [
       "True"
      ]
     },
     "execution_count": 6,
     "metadata": {},
     "output_type": "execute_result"
    }
   ],
   "source": [
    "#始値が欠損ということは出来高が0ということかどうか\n",
    "(prices[\"Open\"].isnull()==(prices[\"Volume\"]==0)).all()"
   ]
  },
  {
   "cell_type": "markdown",
   "id": "d2f3740f",
   "metadata": {
    "papermill": {
     "duration": 0.00716,
     "end_time": "2022-06-05T06:11:27.377239",
     "exception": false,
     "start_time": "2022-06-05T06:11:27.370079",
     "status": "completed"
    },
    "tags": []
   },
   "source": [
    "始値:ある期間の取引において、最初に成立した売買価格のこと\n",
    "出来高:期間中に成立した売買の数量\n"
   ]
  },
  {
   "cell_type": "code",
   "execution_count": 7,
   "id": "089f92dc",
   "metadata": {
    "execution": {
     "iopub.execute_input": "2022-06-05T06:11:27.394780Z",
     "iopub.status.busy": "2022-06-05T06:11:27.393406Z",
     "iopub.status.idle": "2022-06-05T06:11:27.406612Z",
     "shell.execute_reply": "2022-06-05T06:11:27.405375Z"
    },
    "papermill": {
     "duration": 0.024598,
     "end_time": "2022-06-05T06:11:27.409217",
     "exception": false,
     "start_time": "2022-06-05T06:11:27.384619",
     "status": "completed"
    },
    "tags": []
   },
   "outputs": [
    {
     "data": {
      "text/plain": [
       "1413    94\n",
       "8806    95\n",
       "4493    98\n",
       "1376    98\n",
       "1377    98\n",
       "        ..\n",
       "9994    98\n",
       "9900    98\n",
       "9896    98\n",
       "9974    98\n",
       "6201    98\n",
       "Name: SecuritiesCode, Length: 2000, dtype: int64"
      ]
     },
     "execution_count": 7,
     "metadata": {},
     "output_type": "execute_result"
    }
   ],
   "source": [
    "#それぞれの銘柄の数を数えると欠損が見えてくるはず.sore_valuesで昇順にしたので欠損がわかる\n",
    "prices[\"SecuritiesCode\"].value_counts().sort_values()"
   ]
  },
  {
   "cell_type": "markdown",
   "id": "90da98f8",
   "metadata": {
    "papermill": {
     "duration": 0.007068,
     "end_time": "2022-06-05T06:11:27.423909",
     "exception": false,
     "start_time": "2022-06-05T06:11:27.416841",
     "status": "completed"
    },
    "tags": []
   },
   "source": [
    "1413が4欠損、8806が3欠損。他はなし"
   ]
  },
  {
   "cell_type": "code",
   "execution_count": 8,
   "id": "569c08bb",
   "metadata": {
    "execution": {
     "iopub.execute_input": "2022-06-05T06:11:27.441997Z",
     "iopub.status.busy": "2022-06-05T06:11:27.440631Z",
     "iopub.status.idle": "2022-06-05T06:11:27.507779Z",
     "shell.execute_reply": "2022-06-05T06:11:27.506808Z"
    },
    "papermill": {
     "duration": 0.078556,
     "end_time": "2022-06-05T06:11:27.509958",
     "exception": false,
     "start_time": "2022-06-05T06:11:27.431402",
     "status": "completed"
    },
    "tags": []
   },
   "outputs": [
    {
     "data": {
      "text/html": [
       "<div>\n",
       "<style scoped>\n",
       "    .dataframe tbody tr th:only-of-type {\n",
       "        vertical-align: middle;\n",
       "    }\n",
       "\n",
       "    .dataframe tbody tr th {\n",
       "        vertical-align: top;\n",
       "    }\n",
       "\n",
       "    .dataframe thead th {\n",
       "        text-align: right;\n",
       "    }\n",
       "</style>\n",
       "<table border=\"1\" class=\"dataframe\">\n",
       "  <thead>\n",
       "    <tr style=\"text-align: right;\">\n",
       "      <th>SecuritiesCode</th>\n",
       "      <th>1413</th>\n",
       "      <th>8806</th>\n",
       "    </tr>\n",
       "    <tr>\n",
       "      <th>Date</th>\n",
       "      <th></th>\n",
       "      <th></th>\n",
       "    </tr>\n",
       "  </thead>\n",
       "  <tbody>\n",
       "    <tr>\n",
       "      <th>2021-12-06</th>\n",
       "      <td>2190.0</td>\n",
       "      <td>2210.0</td>\n",
       "    </tr>\n",
       "    <tr>\n",
       "      <th>2021-12-07</th>\n",
       "      <td>2250.0</td>\n",
       "      <td>2209.0</td>\n",
       "    </tr>\n",
       "    <tr>\n",
       "      <th>2021-12-08</th>\n",
       "      <td>2255.0</td>\n",
       "      <td>2250.0</td>\n",
       "    </tr>\n",
       "    <tr>\n",
       "      <th>2021-12-09</th>\n",
       "      <td>2263.0</td>\n",
       "      <td>2298.0</td>\n",
       "    </tr>\n",
       "    <tr>\n",
       "      <th>2021-12-10</th>\n",
       "      <td>2251.0</td>\n",
       "      <td>2240.0</td>\n",
       "    </tr>\n",
       "    <tr>\n",
       "      <th>...</th>\n",
       "      <td>...</td>\n",
       "      <td>...</td>\n",
       "    </tr>\n",
       "    <tr>\n",
       "      <th>2022-04-22</th>\n",
       "      <td>2337.0</td>\n",
       "      <td>2197.0</td>\n",
       "    </tr>\n",
       "    <tr>\n",
       "      <th>2022-04-25</th>\n",
       "      <td>NaN</td>\n",
       "      <td>2200.0</td>\n",
       "    </tr>\n",
       "    <tr>\n",
       "      <th>2022-04-26</th>\n",
       "      <td>NaN</td>\n",
       "      <td>NaN</td>\n",
       "    </tr>\n",
       "    <tr>\n",
       "      <th>2022-04-27</th>\n",
       "      <td>NaN</td>\n",
       "      <td>NaN</td>\n",
       "    </tr>\n",
       "    <tr>\n",
       "      <th>2022-04-28</th>\n",
       "      <td>NaN</td>\n",
       "      <td>NaN</td>\n",
       "    </tr>\n",
       "  </tbody>\n",
       "</table>\n",
       "<p>98 rows × 2 columns</p>\n",
       "</div>"
      ],
      "text/plain": [
       "SecuritiesCode    1413    8806\n",
       "Date                          \n",
       "2021-12-06      2190.0  2210.0\n",
       "2021-12-07      2250.0  2209.0\n",
       "2021-12-08      2255.0  2250.0\n",
       "2021-12-09      2263.0  2298.0\n",
       "2021-12-10      2251.0  2240.0\n",
       "...                ...     ...\n",
       "2022-04-22      2337.0  2197.0\n",
       "2022-04-25         NaN  2200.0\n",
       "2022-04-26         NaN     NaN\n",
       "2022-04-27         NaN     NaN\n",
       "2022-04-28         NaN     NaN\n",
       "\n",
       "[98 rows x 2 columns]"
      ]
     },
     "execution_count": 8,
     "metadata": {},
     "output_type": "execute_result"
    }
   ],
   "source": [
    "#欠損銘柄専用のデータフレームを作る(これ最後じゃなかったらどうするんだ...?)\n",
    "pd.pivot(prices,index=\"Date\",columns=\"SecuritiesCode\",values=\"Close\")[[1413,8806]]"
   ]
  },
  {
   "cell_type": "markdown",
   "id": "29358b9c",
   "metadata": {
    "papermill": {
     "duration": 0.007492,
     "end_time": "2022-06-05T06:11:27.525383",
     "exception": false,
     "start_time": "2022-06-05T06:11:27.517891",
     "status": "completed"
    },
    "tags": []
   },
   "source": [
    "Target:1日後と二日後の差額からえられる収益率。\n",
    "securitiessCode:銘柄コード。2000種。"
   ]
  },
  {
   "cell_type": "code",
   "execution_count": 9,
   "id": "e2ded9bf",
   "metadata": {
    "execution": {
     "iopub.execute_input": "2022-06-05T06:11:27.544032Z",
     "iopub.status.busy": "2022-06-05T06:11:27.543441Z",
     "iopub.status.idle": "2022-06-05T06:11:28.873490Z",
     "shell.execute_reply": "2022-06-05T06:11:28.871657Z"
    },
    "papermill": {
     "duration": 1.342711,
     "end_time": "2022-06-05T06:11:28.876337",
     "exception": false,
     "start_time": "2022-06-05T06:11:27.533626",
     "status": "completed"
    },
    "tags": []
   },
   "outputs": [
    {
     "name": "stdout",
     "output_type": "stream",
     "text": [
      "0   -0.003263\n",
      "1   -0.008993\n",
      "2   -0.009963\n",
      "3   -0.015032\n",
      "4    0.002867\n",
      "Name: Target, dtype: float64\n",
      "0   -0.003263\n",
      "1   -0.008993\n",
      "2   -0.009963\n",
      "3   -0.015032\n",
      "4    0.002867\n",
      "Name: Close, dtype: float64\n"
     ]
    }
   ],
   "source": [
    "#Targetの算出が合っているのか確認？\n",
    "\n",
    "print(prices[\"Target\"].head())\n",
    "print(prices.groupby(\"SecuritiesCode\")[\"Close\"].apply(lambda s:(s.shift(-2)-s.shift(-1))/s.shift(-1)).head())\n"
   ]
  },
  {
   "cell_type": "markdown",
   "id": "6c17b777",
   "metadata": {
    "papermill": {
     "duration": 0.008506,
     "end_time": "2022-06-05T06:11:28.892946",
     "exception": false,
     "start_time": "2022-06-05T06:11:28.884440",
     "status": "completed"
    },
    "tags": []
   },
   "source": [
    "ほんとはもっと確認してるけどめんどいのでカット"
   ]
  },
  {
   "cell_type": "code",
   "execution_count": 10,
   "id": "2dd61153",
   "metadata": {
    "execution": {
     "iopub.execute_input": "2022-06-05T06:11:28.912118Z",
     "iopub.status.busy": "2022-06-05T06:11:28.911002Z",
     "iopub.status.idle": "2022-06-05T06:47:57.939880Z",
     "shell.execute_reply": "2022-06-05T06:47:57.938796Z"
    },
    "papermill": {
     "duration": 2189.050321,
     "end_time": "2022-06-05T06:47:57.951204",
     "exception": false,
     "start_time": "2022-06-05T06:11:28.900883",
     "status": "completed"
    },
    "tags": []
   },
   "outputs": [
    {
     "data": {
      "image/png": "[encoded data removed]",
      "text/plain": [
       "<Figure size 432x288 with 1 Axes>"
      ]
     },
     "metadata": {
      "needs_background": "light"
     },
     "output_type": "display_data"
    }
   ],
   "source": [
    "import matplotlib.pyplot as plt\n",
    "x=prices.iloc[:,0]\n",
    "y=prices.iloc[:,1]\n",
    "\n",
    "plt.plot(x,y)\n",
    "plt.show()"
   ]
  },
  {
   "cell_type": "code",
   "execution_count": 11,
   "id": "40052f9f",
   "metadata": {
    "execution": {
     "iopub.execute_input": "2022-06-05T06:47:57.969692Z",
     "iopub.status.busy": "2022-06-05T06:47:57.969191Z",
     "iopub.status.idle": "2022-06-05T06:47:57.973925Z",
     "shell.execute_reply": "2022-06-05T06:47:57.972738Z"
    },
    "papermill": {
     "duration": 0.017167,
     "end_time": "2022-06-05T06:47:57.976491",
     "exception": false,
     "start_time": "2022-06-05T06:47:57.959324",
     "status": "completed"
    },
    "tags": []
   },
   "outputs": [],
   "source": [
    "#import autokeras"
   ]
  },
  {
   "cell_type": "markdown",
   "id": "9a82d8ec",
   "metadata": {
    "papermill": {
     "duration": 0.00766,
     "end_time": "2022-06-05T06:47:57.992467",
     "exception": false,
     "start_time": "2022-06-05T06:47:57.984807",
     "status": "completed"
    },
    "tags": []
   },
   "source": []
  },
  {
   "cell_type": "code",
   "execution_count": 12,
   "id": "86a0a9fd",
   "metadata": {
    "execution": {
     "iopub.execute_input": "2022-06-05T06:47:58.012182Z",
     "iopub.status.busy": "2022-06-05T06:47:58.011248Z",
     "iopub.status.idle": "2022-06-05T06:47:58.179855Z",
     "shell.execute_reply": "2022-06-05T06:47:58.178602Z"
    },
    "papermill": {
     "duration": 0.182078,
     "end_time": "2022-06-05T06:47:58.182480",
     "exception": false,
     "start_time": "2022-06-05T06:47:58.000402",
     "status": "completed"
    },
    "tags": []
   },
   "outputs": [
    {
     "data": {
      "image/png": "[encoded data removed]",
      "text/plain": [
       "<Figure size 432x288 with 1 Axes>"
      ]
     },
     "metadata": {
      "needs_background": "light"
     },
     "output_type": "display_data"
    }
   ],
   "source": [
    "import matplotlib.pyplot as plt\n",
    "y=prices[prices[\"SecuritiesCode\"]==1301][\"Target\"].rolling(window=3).mean()\n",
    "x=prices[prices[\"SecuritiesCode\"]==1301][\"Date\"]\n",
    "\n",
    "plt.plot(x,y)\n",
    "plt.show()\n"
   ]
  },
  {
   "cell_type": "code",
   "execution_count": 13,
   "id": "dcbbb998",
   "metadata": {
    "execution": {
     "iopub.execute_input": "2022-06-05T06:47:58.202364Z",
     "iopub.status.busy": "2022-06-05T06:47:58.201915Z",
     "iopub.status.idle": "2022-06-05T06:47:58.213236Z",
     "shell.execute_reply": "2022-06-05T06:47:58.212042Z"
    },
    "papermill": {
     "duration": 0.024321,
     "end_time": "2022-06-05T06:47:58.215600",
     "exception": false,
     "start_time": "2022-06-05T06:47:58.191279",
     "status": "completed"
    },
    "tags": []
   },
   "outputs": [
    {
     "data": {
      "text/plain": [
       "0        -0.003263\n",
       "2000      0.009820\n",
       "4000      0.006483\n",
       "6000     -0.006441\n",
       "8000     -0.008104\n",
       "            ...   \n",
       "186000    0.013975\n",
       "188000   -0.019908\n",
       "189999    0.020312\n",
       "191997    0.009188\n",
       "193995   -0.001517\n",
       "Name: Target, Length: 98, dtype: float64"
      ]
     },
     "execution_count": 13,
     "metadata": {},
     "output_type": "execute_result"
    }
   ],
   "source": [
    "prices[prices[\"SecuritiesCode\"]==1301][\"Target\"]"
   ]
  },
  {
   "cell_type": "code",
   "execution_count": null,
   "id": "79d2058d",
   "metadata": {
    "papermill": {
     "duration": 0.008645,
     "end_time": "2022-06-05T06:47:58.233831",
     "exception": false,
     "start_time": "2022-06-05T06:47:58.225186",
     "status": "completed"
    },
    "tags": []
   },
   "outputs": [],
   "source": []
  }
 ],
 "metadata": {
  "kernelspec": {
   "display_name": "Python 3",
   "language": "python",
   "name": "python3"
  },
  "language_info": {
   "codemirror_mode": {
    "name": "ipython",
    "version": 3
   },
   "file_extension": ".py",
   "mimetype": "text/x-python",
   "name": "python",
   "nbconvert_exporter": "python",
   "pygments_lexer": "ipython3",
   "version": "3.7.12"
  },
  "papermill": {
   "default_parameters": {},
   "duration": 2211.186729,
   "end_time": "2022-06-05T06:48:01.072141",
   "environment_variables": {},
   "exception": null,
   "input_path": "__notebook__.ipynb",
   "output_path": "__notebook__.ipynb",
   "parameters": {},
   "start_time": "2022-06-05T06:11:09.885412",
   "version": "2.3.4"
  }
 },
 "nbformat": 4,
 "nbformat_minor": 5
}
